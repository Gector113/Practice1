{
  "cells": [
    {
      "cell_type": "markdown",
      "metadata": {
        "id": "FMqboNwO4rVs"
      },
      "source": [
        "# **Курс \"Програмування на мові Python\"**"
      ]
    },
    {
      "cell_type": "markdown",
      "metadata": {
        "id": "A2T6MigL5Z06"
      },
      "source": [
        "## **Практичне зайняття №13**\n",
        "\n",
        "### Тема: \"Робота з файлами\""
      ]
    },
    {
      "cell_type": "markdown",
      "metadata": {
        "id": "cfCdgK2zXm7e"
      },
      "source": [
        "### **Завдання 1 (1,5 бали)**\n",
        "\n",
        "У 1939 році друком вийшов роман американського письменика Ернеста Вінсента Райта \"Ґетсбі\". Особливу увагу публіки він здобув через те, що письменник жодного разу не використав у романі літеру \"e\" (роман складається з більше ніж 50,000 слів), яка є найбільш вживаною літерою в англійській мові.\n",
        "\n",
        "Порахуйте кількість входжень кожної літери у текст роману. Виведіть список літер англійського алфавіту, а також інформацію про те, скільки відсотків від усіх літер тексту складає кожна літера алфавіту.\n",
        "\n",
        "Зауваження:\n",
        "\n",
        "1. Програма має ігнорувати будь-які символи, окрім літер.\n",
        "\n",
        "2. Переведіть усі літери у верхній або у нижній регістр.\n",
        "\n",
        "3. Під час виведення відсортуйте літери у порядку зменшення їхнього відсотка. Літера \"e\" має стояти на останньому місці у цьому списку (хоча кілька літер e там все ж таки зустрічається).\n",
        "\n",
        "4. Виведіть перші 5 та останні 5 літер відсортованого списку разом з відсотковими значеннями, що їм відповідають. Відсотки округліть до тисячних."
      ]
    },
    {
      "cell_type": "code",
      "execution_count": 1,
      "metadata": {
        "id": "u4-fHJJ6U462",
        "tags": [
          "outputPrepend"
        ]
      },
      "outputs": [
        {
          "name": "stdout",
          "output_type": "stream",
          "text": [
            "a: 10.99%\n",
            "o: 10.652%\n",
            "i: 8.769%\n",
            "n: 8.671%\n",
            "t: 8.665%\n",
            " \n",
            "j: 0.169%\n",
            "z: 0.103%\n",
            "q: 0.053%\n",
            "x: 0.049%\n",
            "e: 0.002%\n"
          ]
        }
      ],
      "source": [
        "import string\n",
        "\n",
        "with open('gadsby.txt', 'r') as file:\n",
        "    list = [*''.join(file.readlines()[117:])]\n",
        "list1 = [(sum(string.ascii_lowercase[i] == j for j in list)) \n",
        "    for i in range(len(string.ascii_lowercase))]\n",
        "sort = sorted([[string.ascii_lowercase[i], round((list1[i]/sum(list1))*100,3)] \n",
        "    for i in range(len(string.ascii_lowercase))], key=lambda n: n[1], reverse=True)\n",
        "finish = [(f'{j[0]}: {j[1]}%') for j in sort]\n",
        "for el in finish[:5]:\n",
        "    print(el)\n",
        "print(' ')\n",
        "for el in finish[-5:]:\n",
        "    print(el)"
      ]
    },
    {
      "cell_type": "markdown",
      "metadata": {
        "id": "A34oz70eU463"
      },
      "source": [
        "### **Завдання 2 (1,5 бали)**\n",
        "\n",
        "Архів archive.zip містить 140 txt-файлів, в яких збережено інфорамцію про те, якими іменами називали дітей у США в період з 1880 по 2019 рік.\n",
        "\n",
        "Структура рядка кожного файлу така:\n",
        "\n",
        "*name,sex,number_of_occurrences*\n",
        "\n",
        "Напишіть програму, яка зчитуватиме кожен файл та визначатиме окремо чоловічі, окремо жіночі імена, що були найпопулярнішими хоча б в один з років. Далі програма повинна підраховувати, скільки разів кожне з цих імен ставало найпопулярнишим, та виводити ранжовані списки чоловічіх та жіночих імен у вигляді:\n",
        "\n",
        "```\n",
        "Michael 44\n",
        "John 44\n",
        "Robert 17\n",
        "...\n",
        "\n",
        "Mary 76\n",
        "Jennifer 15\n",
        "Emily 12\n",
        "...\n",
        "```"
      ]
    },
    {
      "cell_type": "code",
      "execution_count": null,
      "metadata": {},
      "outputs": [],
      "source": [
        "import os\n",
        "os.listdir('archive.zip')\n",
        "a = []\n",
        "for file in filter(lambda n: 'txt' in n,os.listdir('archive.zip')):\n",
        "    with open('archive.zip','r') as file:\n",
        "        b = file.readlines()\n",
        "        for sex in ' max_from_file':\n",
        "            c = list(filter(lambda line: sex in line.split(',')[1].lower(),b))\n",
        "            m = 0\n",
        "            for line in c:\n",
        "                m = max(m,int(line.split(',')[2]))\n",
        "            a.extend([i for i in c if int(i.split(',')[2]) == m])\n",
        "sort = []\n",
        "for sex in ' max_from_file':\n",
        "    res = []\n",
        "    for elem in {*[i[:-2].split(',')[0] for i in a if i.split(',')[1].lower() == sex]}:\n",
        "        res.append([sex,el,[i.split(',')[0] for i in a].count(el)][::-1])\n",
        "    sort = sort + sorted(res)[::-1]\n",
        "for sex in ' max_from_file':\n",
        "    if sex == ' ': \n",
        "        print('')\n",
        "    else: \n",
        "        print(*[str(el[1])+' '+str(el[0]) for el in sort if el[2] == sex],sep='\\n')"
      ]
    }
  ],
  "metadata": {
    "colab": {
      "collapsed_sections": [],
      "name": "Practice_14_KM_01.ipynb",
      "provenance": []
    },
    "kernelspec": {
      "display_name": "Python 3",
      "name": "python3"
    },
    "language_info": {
      "codemirror_mode": {
        "name": "ipython",
        "version": 3
      },
      "file_extension": ".py",
      "mimetype": "text/x-python",
      "name": "python",
      "nbconvert_exporter": "python",
      "pygments_lexer": "ipython3",
      "version": "3.9.7"
    }
  },
  "nbformat": 4,
  "nbformat_minor": 0
}
