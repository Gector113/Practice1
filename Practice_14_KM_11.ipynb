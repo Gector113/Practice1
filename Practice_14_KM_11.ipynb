{
  "cells": [
    {
      "cell_type": "markdown",
      "metadata": {
        "id": "FMqboNwO4rVs"
      },
      "source": [
        "# **Курс \"Програмування на мові Python\"**"
      ]
    },
    {
      "cell_type": "markdown",
      "metadata": {
        "id": "A2T6MigL5Z06"
      },
      "source": [
        "## **Практичне зайняття №14**\n",
        "\n",
        "### Тема: \"Робота зі спеціальними форматами файлів\""
      ]
    },
    {
      "cell_type": "markdown",
      "metadata": {
        "id": "A34oz70eU463"
      },
      "source": [
        "### **Завдання 1 (1,5 бали)**\n",
        "\n",
        "Створіть CSV-файл, що буде містити від 5 до 10 пісень (творів) вашого улюбленого музиканта. Назва файлу - ім'я музиканта (композитора) або назва гурту.\n",
        "\n",
        "1. Обов'язково додайте до файлу рядок з назвами двох колонок (Song, Year) або (Composition, Year).\n",
        "\n",
        "2. Після запису файлу роздрукуйте назву файлу та усі наявні у файлі рядки (включно із заголовками).\n",
        "\n",
        "3. Для запису та зчитування рядків скористайтесь функціями csv.DictWriter() та csv.DictReader()."
      ]
    },
    {
      "cell_type": "code",
      "execution_count": 3,
      "metadata": {
        "id": "MEJIrG1GU463"
      },
      "outputs": [
        {
          "name": "stdout",
          "output_type": "stream",
          "text": [
            "Led Zeppelin.csv\n",
            "\n",
            "Song Year \n",
            "Communication Breakdown 1969\n",
            "All My Love 1979\n",
            "Black Dog 1972\n",
            "Kashmir 1975\n",
            "Immigrant Song 1970\n",
            "Stairway to Heaven 1971\n"
          ]
        }
      ],
      "source": [
        "import csv\n",
        "with open('Led Zeppelin.csv', 'w', newline='') as csvfile:\n",
        "    song_names = ['Song', 'Year']\n",
        "    writer = csv.DictWriter(csvfile, fieldnames = song_names)\n",
        "    writer.writeheader()\n",
        "    writer.writerow({'Song': 'Communication Breakdown', 'Year': '1969'})\n",
        "    writer.writerow({'Song': 'All My Love', 'Year': '1979'})\n",
        "    writer.writerow({'Song': 'Black Dog', 'Year': '1972'})\n",
        "    writer.writerow({'Song': 'Kashmir', 'Year': '1975'})\n",
        "    writer.writerow({'Song': 'Immigrant Song', 'Year': '1970'})\n",
        "    writer.writerow({'Song': 'Stairway to Heaven', 'Year': '1971'})\n",
        "\n",
        "with open('Led Zeppelin.csv', newline='') as csvfile:\n",
        "    reader = csv.DictReader(csvfile)\n",
        "    print('Led Zeppelin.csv\\n')\n",
        "    [print(heading, end=' ') for heading in reader.fieldnames]\n",
        "    print()\n",
        "    [print(row['Song'], row['Year']) for row in reader]"
      ]
    },
    {
      "cell_type": "markdown",
      "metadata": {
        "id": "Jb-eSBsWU464"
      },
      "source": [
        "### **Завдання 2 (1,5 бали)**\n",
        "\n",
        "COCO Dataset - набір фотографій та анотацій до них. Його дуже часто використовують для тренування класифікаторів, призначених для розпізнавання об'єктів та визначення ключових точок на зображеннях.\n",
        "\n",
        "Завантажте файли з описом фотографій COCO Dataset за посиланням: [COCO Dataset](http://images.cocodataset.org/annotations/image_info_test2017.zip).\n",
        "\n",
        "Відкрийте файл image_info_test-dev2017.json. Інформація про фотографії з бази COCO міститься у полі \"images\". Інформація про категорії, на які розділені всі фотографії, міститься у полі \"categories\".\n",
        "\n",
        "1. Визначте кількість фотографій, інформацію про які можна знайти у цьому файлі (кількість елементів, що відповідають ключу \"images\").\n",
        "\n",
        "2. Визначте кількість наявних категорій (кількість елементів, що відповідають ключу \"categories\").\n",
        "\n",
        "3. Виведіть посилання на фотографію 000000000001.jpg (\"coco_url\"). Також виведіть висоту цієї фотографії (\"height\"), ширину (\"width\") та її ідентифікатор (\"id\").\n",
        "\n",
        "4. Виведіть назву фотографії з набільшим номером.\n",
        "\n",
        "Опис структури JSON-файлу для набору фотографій COCO можна знайти за посиланням: [Data format](https://cocodataset.org/#format-data).\n",
        "\n",
        "Щоб перевірити правильність результатів, у VS Code встановіть розширення JSON та відкрийте файл image_info_test-dev2017.json. Розширення автоматично визначає кількість елементів у кожному полі."
      ]
    },
    {
      "cell_type": "code",
      "execution_count": 2,
      "metadata": {},
      "outputs": [
        {
          "name": "stdout",
          "output_type": "stream",
          "text": [
            "Кількість фотографій: 20288\n",
            "Кількість категорій: 80\n",
            "Посилання на фотографію: http://images.cocodataset.org/test2017/000000000001.jpg\n",
            "Висота: 480\n",
            "Ширина: 640\n",
            "Ідентифікатор фотографії: 1\n",
            "Фотографія з найбільшим номером: 000000581918.jpg\n"
          ]
        }
      ],
      "source": [
        "import json\n",
        "images = open(\"image_info_test-dev2017.json\")\n",
        "images1 = json.load(images)\n",
        "print(\"Кількість фотографій:\", len(images1[\"images\"]))\n",
        "print(\"Кількість категорій:\", len(images1[\"categories\"]))\n",
        "max = 0\n",
        "max_number = ''\n",
        "for i in range (0, len(images1[\"images\"])):\n",
        "    if images1[\"images\"][i].get(\"file_name\") == \"000000000001.jpg\":\n",
        "        print(\"Посилання на фотографію:\",images1[\"images\"][i].get(\"coco_url\"))\n",
        "        print(\"Висота:\",images1[\"images\"][i].get(\"height\"))\n",
        "        print(\"Ширина:\",images1[\"images\"][i].get(\"width\"))\n",
        "        print(\"Ідентифікатор фотографії:\",images1[\"images\"][i].get(\"id\"))\n",
        "    if images1[\"images\"][i].get(\"id\") > max:\n",
        "        max = images1[\"images\"][i].get(\"id\")\n",
        "        max_number = images1[\"images\"][i].get(\"file_name\")\n",
        "print('Фотографія з найбільшим номером:', max_number)\n"
      ]
    }
  ],
  "metadata": {
    "colab": {
      "collapsed_sections": [],
      "name": "Practice_14_KM_01.ipynb",
      "provenance": []
    },
    "kernelspec": {
      "display_name": "Python 3",
      "name": "python3"
    },
    "language_info": {
      "codemirror_mode": {
        "name": "ipython",
        "version": 3
      },
      "file_extension": ".py",
      "mimetype": "text/x-python",
      "name": "python",
      "nbconvert_exporter": "python",
      "pygments_lexer": "ipython3",
      "version": "3.9.7"
    }
  },
  "nbformat": 4,
  "nbformat_minor": 0
}
